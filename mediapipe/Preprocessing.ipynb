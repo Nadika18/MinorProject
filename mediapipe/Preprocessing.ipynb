{
 "cells": [
  {
   "cell_type": "code",
   "execution_count": 40,
   "id": "ad0a4a38",
   "metadata": {},
   "outputs": [
    {
     "name": "stdout",
     "output_type": "stream",
     "text": [
      "Collecting tqdm"
     ]
    },
    {
     "name": "stderr",
     "output_type": "stream",
     "text": [
      "\n",
      "[notice] A new release of pip available: 22.3.1 -> 23.0.1\n",
      "[notice] To update, run: python.exe -m pip install --upgrade pip\n"
     ]
    },
    {
     "name": "stdout",
     "output_type": "stream",
     "text": [
      "\n",
      "  Downloading tqdm-4.64.1-py2.py3-none-any.whl (78 kB)\n",
      "     -------------------------------------- 78.5/78.5 kB 733.6 kB/s eta 0:00:00\n",
      "Requirement already satisfied: colorama in c:\\dev\\python\\ml\\minormodel\\newenv\\lib\\site-packages (from tqdm) (0.4.6)\n",
      "Installing collected packages: tqdm\n",
      "Successfully installed tqdm-4.64.1\n"
     ]
    }
   ],
   "source": [
    "!pip install tqdm"
   ]
  },
  {
   "cell_type": "code",
   "execution_count": 18,
   "id": "bd389392",
   "metadata": {},
   "outputs": [],
   "source": [
    "import cv2\n",
    "import mediapipe as mp"
   ]
  },
  {
   "cell_type": "code",
   "execution_count": 19,
   "id": "b3319d1c",
   "metadata": {},
   "outputs": [],
   "source": [
    "mp_drawing = mp.solutions.drawing_utils  # Drawing helpers\n",
    "mp_pose = mp.solutions.pose  # Mediapipe Solutions\n"
   ]
  },
  {
   "cell_type": "code",
   "execution_count": 17,
   "id": "068143d4",
   "metadata": {},
   "outputs": [],
   "source": [
    "cap = cv2.VideoCapture(0)\n",
    "\n",
    "#pose model\n",
    "with mp_pose.Pose() as pose_tracker:\n",
    "\n",
    "    while cap.isOpened():\n",
    "        ret, frame = cap.read()\n",
    "\n",
    "        # Recolor Feed\n",
    "        image = cv2.cvtColor(frame, cv2.COLOR_BGR2RGB)\n",
    "        image.flags.writeable = False\n",
    "\n",
    "        # Make Detections\n",
    "        result= pose_tracker.process(image)\n",
    "        pose_landmarks = result.pose_landmarks\n",
    "\n",
    "        # Recolor image back to BGR for rendering\n",
    "        image.flags.writeable = True\n",
    "        image = cv2.cvtColor(image, cv2.COLOR_RGB2BGR)\n",
    "\n",
    "        # 4. Pose Detections\n",
    "        mp_drawing.draw_landmarks(image, result.pose_landmarks, mp_pose.POSE_CONNECTIONS,\n",
    "                                  mp_drawing.DrawingSpec(\n",
    "                                      color=(245, 117, 66), thickness=2, circle_radius=4),\n",
    "                                  mp_drawing.DrawingSpec(\n",
    "                                      color=(245, 66, 230), thickness=2, circle_radius=2)\n",
    "                                  )\n",
    "\n",
    "        cv2.imshow('Webcam Feed', image)\n",
    "\n",
    "        if cv2.waitKey(10) & 0xFF == ord('q'):\n",
    "            break\n",
    "\n",
    "cap.release()\n",
    "cv2.destroyAllWindows()"
   ]
  },
  {
   "cell_type": "code",
   "execution_count": 19,
   "id": "dbee6a7e",
   "metadata": {},
   "outputs": [
    {
     "data": {
      "text/plain": [
       "0.9999074935913086"
      ]
     },
     "execution_count": 19,
     "metadata": {},
     "output_type": "execute_result"
    }
   ],
   "source": [
    "(pose_landmarks.landmark)[0].visibility"
   ]
  },
  {
   "cell_type": "markdown",
   "id": "1450d19a",
   "metadata": {},
   "source": [
    "# Capture Landmarks and Export CSV"
   ]
  },
  {
   "cell_type": "code",
   "execution_count": 13,
   "id": "d67aee3a",
   "metadata": {},
   "outputs": [],
   "source": [
    "import csv\n",
    "import os\n",
    "import numpy as np\n",
    "import tqdm"
   ]
  },
  {
   "cell_type": "code",
   "execution_count": 20,
   "id": "9d382eb9",
   "metadata": {},
   "outputs": [],
   "source": [
    "num_of_landmarks = len(pose_landmarks.landmark)\n",
    "num_of_columns = 1 + num_of_landmarks"
   ]
  },
  {
   "cell_type": "code",
   "execution_count": 65,
   "id": "58187223",
   "metadata": {},
   "outputs": [],
   "source": [
    "landmark_names = [\n",
    "        'nose',\n",
    "        'left_eye_inner', 'left_eye', 'left_eye_outer',\n",
    "        'right_eye_inner', 'right_eye', 'right_eye_outer',\n",
    "        'left_ear', 'right_ear',\n",
    "        'mouth_left', 'mouth_right',\n",
    "        'left_shoulder', 'right_shoulder',\n",
    "        'left_elbow', 'right_elbow',\n",
    "        'left_wrist', 'right_wrist',\n",
    "        'left_pinky_1', 'right_pinky_1',\n",
    "        'left_index_1', 'right_index_1',\n",
    "        'left_thumb_2', 'right_thumb_2',\n",
    "        'left_hip', 'right_hip',\n",
    "        'left_knee', 'right_knee',\n",
    "        'left_ankle', 'right_ankle',\n",
    "        'left_heel', 'right_heel',\n",
    "        'left_foot_index', 'right_foot_index',\n",
    "    ]"
   ]
  },
  {
   "cell_type": "code",
   "execution_count": 71,
   "id": "15cdfccd",
   "metadata": {},
   "outputs": [
    {
     "data": {
      "text/plain": [
       "133"
      ]
     },
     "execution_count": 71,
     "metadata": {},
     "output_type": "execute_result"
    }
   ],
   "source": [
    "landmarks = ['class']\n",
    "for i, name in enumerate(landmark_names):\n",
    "    landmarks += ['{}_x'.format(name), '{}_y'.format(name), '{}_z'.format(name), '{}_v'.format(name)]\n",
    "len(landmarks)"
   ]
  },
  {
   "cell_type": "code",
   "execution_count": 72,
   "id": "5d74530a",
   "metadata": {},
   "outputs": [],
   "source": [
    "with open('video_coordinate.csv', mode = 'w', newline ='') as f:\n",
    "    csv_writer = csv.writer(f, delimiter = ',', quotechar = '\"', quoting = csv.QUOTE_MINIMAL)\n",
    "    csv_writer.writerow(landmarks)"
   ]
  },
  {
   "cell_type": "markdown",
   "id": "7a8164f8",
   "metadata": {},
   "source": [
    "# Read data from folder"
   ]
  },
  {
   "cell_type": "code",
   "execution_count": 117,
   "id": "70e85186",
   "metadata": {},
   "outputs": [
    {
     "name": "stderr",
     "output_type": "stream",
     "text": [
      "100%|████████████████████████████████████████████████████████████████████████████████| 255/255 [01:16<00:00,  3.32it/s]\n",
      "100%|████████████████████████████████████████████████████████████████████████████████| 153/153 [00:49<00:00,  3.08it/s]\n"
     ]
    }
   ],
   "source": [
    "images_in_folder = 'yoga_poses_images_in'\n",
    "images_out_folder = 'yoga_poses_images_out'\n",
    "\n",
    "pose_class_names = [n for n in os.listdir(images_in_folder) if not n.startswith('.')]\n",
    "for pose_class_name in pose_class_names:\n",
    "    image_names = sorted([n for n in os.listdir(os.path.join(images_in_folder, pose_class_name)) \n",
    "                      if not n.startswith('.')])\n",
    "    \n",
    "    try:\n",
    "        os.mkdir(os.path.join(images_out_folder, pose_class_name))\n",
    "    except FileExistsError:\n",
    "        pass\n",
    "        \n",
    "    for image_name in tqdm.tqdm(image_names, position=0):\n",
    "        input_frame = cv2.imread(os.path.join(images_in_folder, pose_class_name, image_name))\n",
    "        input_frame = cv2.cvtColor(input_frame, cv2.COLOR_BGR2RGB)\n",
    "\n",
    "      # Initialize fresh pose tracker and run it.\n",
    "        with mp_pose.Pose() as pose_tracker:\n",
    "            result = pose_tracker.process(image=input_frame)\n",
    "            pose_landmarks = result.pose_landmarks\n",
    "        \n",
    "    #write the data to a csv\n",
    "        if pose_landmarks is not None:\n",
    "            pose = pose_landmarks.landmark\n",
    "            pose_row = list(np.array([[landmark.x, landmark.y, landmark.z, landmark.visibility] for landmark in pose]).flatten())\n",
    "            pose_row.insert(0, pose_class_name)\n",
    "        \n",
    "            try:\n",
    "                with open('coordinate.csv', mode = 'a', newline ='') as f:\n",
    "                    csv_writer = csv.writer(f, delimiter = ',', quotechar = '\"', quoting = csv.QUOTE_MINIMAL)\n",
    "                    csv_writer.writerow(pose_row)\n",
    "            except Exception as e:\n",
    "                print(\"An error occured\", e)\n",
    "        \n",
    "    # Save image with pose prediction (if pose was detected).\n",
    "        output_frame = input_frame.copy()\n",
    "        if pose_landmarks is not None:\n",
    "            mp_drawing.draw_landmarks(\n",
    "            image=output_frame,\n",
    "            landmark_list=pose_landmarks,\n",
    "            connections=mp_pose.POSE_CONNECTIONS)\n",
    "        output_frame = cv2.cvtColor(output_frame, cv2.COLOR_RGB2BGR)\n",
    "        cv2.imwrite(os.path.join(images_out_folder, pose_class_name ,image_name), output_frame)"
   ]
  },
  {
   "cell_type": "markdown",
   "id": "0934dd83",
   "metadata": {},
   "source": [
    "# Read data from user camera and populate the csv"
   ]
  },
  {
   "cell_type": "code",
   "execution_count": 154,
   "id": "b612aa3e",
   "metadata": {},
   "outputs": [],
   "source": [
    "csv_file_name = \"video.csv\""
   ]
  },
  {
   "cell_type": "code",
   "execution_count": 155,
   "id": "63f8073a",
   "metadata": {},
   "outputs": [],
   "source": [
    "class_name = \"t\""
   ]
  },
  {
   "cell_type": "code",
   "execution_count": 157,
   "id": "ea65045e",
   "metadata": {},
   "outputs": [
    {
     "name": "stdout",
     "output_type": "stream",
     "text": [
      "No detection\n",
      "No detection\n",
      "No detection\n",
      "No detection\n",
      "No detection\n",
      "No detection\n",
      "No detection\n",
      "No detection\n",
      "No detection\n",
      "No detection\n",
      "No detection\n",
      "No detection\n",
      "No detection\n",
      "No detection\n",
      "No detection\n",
      "No detection\n",
      "No detection\n",
      "No detection\n",
      "No detection\n",
      "No detection\n",
      "No detection\n",
      "No detection\n",
      "No detection\n",
      "No detection\n",
      "No detection\n",
      "No detection\n",
      "No detection\n",
      "No detection\n",
      "No detection\n",
      "No detection\n",
      "No detection\n",
      "No detection\n",
      "No detection\n",
      "No detection\n",
      "No detection\n",
      "No detection\n",
      "No detection\n",
      "No detection\n",
      "No detection\n",
      "No detection\n",
      "No detection\n",
      "No detection\n",
      "No detection\n",
      "No detection\n",
      "No detection\n",
      "No detection\n",
      "No detection\n",
      "No detection\n",
      "No detection\n",
      "No detection\n",
      "No detection\n",
      "No detection\n",
      "No detection\n",
      "No detection\n",
      "No detection\n",
      "No detection\n",
      "No detection\n",
      "No detection\n",
      "No detection\n",
      "No detection\n",
      "No detection\n",
      "No detection\n",
      "No detection\n",
      "No detection\n",
      "No detection\n",
      "No detection\n",
      "No detection\n",
      "No detection\n",
      "No detection\n",
      "No detection\n",
      "No detection\n",
      "No detection\n",
      "No detection\n",
      "No detection\n",
      "No detection\n",
      "No detection\n",
      "No detection\n",
      "No detection\n",
      "No detection\n",
      "No detection\n",
      "No detection\n",
      "No detection\n",
      "No detection\n",
      "No detection\n"
     ]
    }
   ],
   "source": [
    "cap = cv2.VideoCapture(0)\n",
    "\n",
    "#pose model\n",
    "with mp_pose.Pose() as pose_tracker:\n",
    "\n",
    "    while cap.isOpened():\n",
    "        ret, frame = cap.read()\n",
    "\n",
    "        # Recolor Feed\n",
    "        image = cv2.cvtColor(frame, cv2.COLOR_BGR2RGB)\n",
    "        image.flags.writeable = False\n",
    "\n",
    "        # Make Detections\n",
    "        result= pose_tracker.process(image)\n",
    "        pose_landmarks = result.pose_landmarks\n",
    "\n",
    "        # Recolor image back to BGR for rendering\n",
    "        image.flags.writeable = True\n",
    "        image = cv2.cvtColor(image, cv2.COLOR_RGB2BGR)\n",
    "\n",
    "        # 4. Pose Detections\n",
    "        mp_drawing.draw_landmarks(image, result.pose_landmarks, mp_pose.POSE_CONNECTIONS,\n",
    "                                  mp_drawing.DrawingSpec(\n",
    "                                      color=(245, 117, 66), thickness=2, circle_radius=4),\n",
    "                                  mp_drawing.DrawingSpec(\n",
    "                                      color=(245, 66, 230), thickness=2, circle_radius=2)\n",
    "                                  )\n",
    "        \n",
    "        try:\n",
    "            pose = pose_landmarks.landmark\n",
    "            pose_row = list(np.array([[landmark.x, landmark.y, landmark.z, landmark.visibility] for landmark in pose]).flatten())\n",
    "            pose_row.insert(0, class_name)  \n",
    "            \n",
    "            with open(csv_file_name, mode='a', newline='') as f:\n",
    "                csv_writer = csv.writer(f, delimiter=',', quotechar='\"', quoting=csv.QUOTE_MINIMAL)\n",
    "                csv_writer.writerow(pose_row) \n",
    "        except:\n",
    "            pass           \n",
    "        \n",
    "        cv2.imshow('Webcam Feed', image)\n",
    "\n",
    "        if cv2.waitKey(10) & 0xFF == ord('q'):\n",
    "            break\n",
    "\n",
    "cap.release()\n",
    "cv2.destroyAllWindows()"
   ]
  },
  {
   "cell_type": "markdown",
   "id": "b35c0340",
   "metadata": {},
   "source": [
    "# Add video data to CSV"
   ]
  },
  {
   "cell_type": "code",
   "execution_count": 73,
   "id": "f6d7afd0",
   "metadata": {},
   "outputs": [],
   "source": [
    "videos_in_folder = 'yoga_poses_videos_in'\n",
    "videos_out_folder = 'yoga_poses_videos_out'"
   ]
  },
  {
   "cell_type": "code",
   "execution_count": 74,
   "id": "f2e7e6dd",
   "metadata": {
    "scrolled": true
   },
   "outputs": [
    {
     "name": "stdout",
     "output_type": "stream",
     "text": [
      "['mountain', 't', 'tree']\n"
     ]
    },
    {
     "name": "stderr",
     "output_type": "stream",
     "text": [
      "\r\n",
      "  0%|                                                                                                                        | 0/5 [00:00<?, ?it/s]"
     ]
    },
    {
     "name": "stdout",
     "output_type": "stream",
     "text": [
      "Processing yoga_poses_videos_in\\mountain\\IMG_1104.mov\n"
     ]
    },
    {
     "name": "stderr",
     "output_type": "stream",
     "text": [
      "\r\n",
      " 20%|██████████████████████▍                                                                                         | 1/5 [00:03<00:15,  3.95s/it]"
     ]
    },
    {
     "name": "stdout",
     "output_type": "stream",
     "text": [
      "Processing yoga_poses_videos_in\\mountain\\IMG_1107.mov\n"
     ]
    },
    {
     "name": "stderr",
     "output_type": "stream",
     "text": [
      "\r\n",
      " 40%|████████████████████████████████████████████▊                                                                   | 2/5 [00:09<00:13,  4.62s/it]"
     ]
    },
    {
     "name": "stdout",
     "output_type": "stream",
     "text": [
      "Processing yoga_poses_videos_in\\mountain\\IMG_1108.mov\n"
     ]
    },
    {
     "name": "stderr",
     "output_type": "stream",
     "text": [
      "\r\n",
      " 60%|███████████████████████████████████████████████████████████████████▏                                            | 3/5 [00:14<00:09,  5.00s/it]"
     ]
    },
    {
     "name": "stdout",
     "output_type": "stream",
     "text": [
      "Processing yoga_poses_videos_in\\mountain\\IMG_1109.MOV\n"
     ]
    },
    {
     "name": "stderr",
     "output_type": "stream",
     "text": [
      "\r\n",
      " 80%|█████████████████████████████████████████████████████████████████████████████████████████▌                      | 4/5 [00:26<00:07,  7.69s/it]"
     ]
    },
    {
     "name": "stdout",
     "output_type": "stream",
     "text": [
      "Processing yoga_poses_videos_in\\mountain\\IMG_1111.mov\n"
     ]
    },
    {
     "name": "stderr",
     "output_type": "stream",
     "text": [
      "100%|████████████████████████████████████████████████████████████████████████████████████████████████████████████████| 5/5 [00:35<00:00,  7.05s/it]\n",
      "  0%|                                                                                                                        | 0/2 [00:00<?, ?it/s]"
     ]
    },
    {
     "name": "stdout",
     "output_type": "stream",
     "text": [
      "Processing yoga_poses_videos_in\\t\\IMG_1112.MOV\n"
     ]
    },
    {
     "name": "stderr",
     "output_type": "stream",
     "text": [
      "\r\n",
      " 50%|████████████████████████████████████████████████████████                                                        | 1/2 [00:16<00:16, 16.53s/it]"
     ]
    },
    {
     "name": "stdout",
     "output_type": "stream",
     "text": [
      "Processing yoga_poses_videos_in\\t\\IMG_1115.MOV\n"
     ]
    },
    {
     "name": "stderr",
     "output_type": "stream",
     "text": [
      "100%|████████████████████████████████████████████████████████████████████████████████████████████████████████████████| 2/2 [00:33<00:00, 16.83s/it]\n",
      "  0%|                                                                                                                        | 0/2 [00:00<?, ?it/s]"
     ]
    },
    {
     "name": "stdout",
     "output_type": "stream",
     "text": [
      "Processing yoga_poses_videos_in\\tree\\IMG_1113.MOV\n"
     ]
    },
    {
     "name": "stderr",
     "output_type": "stream",
     "text": [
      "\r\n",
      " 50%|████████████████████████████████████████████████████████                                                        | 1/2 [00:15<00:15, 15.50s/it]"
     ]
    },
    {
     "name": "stdout",
     "output_type": "stream",
     "text": [
      "Processing yoga_poses_videos_in\\tree\\IMG_1114.MOV\n"
     ]
    },
    {
     "name": "stderr",
     "output_type": "stream",
     "text": [
      "100%|████████████████████████████████████████████████████████████████████████████████████████████████████████████████| 2/2 [00:29<00:00, 14.95s/it]\n"
     ]
    }
   ],
   "source": [
    "pose_class_names = [n for n in os.listdir(videos_in_folder) if not n.startswith('.')]\n",
    "\n",
    "print(pose_class_names)\n",
    "\n",
    "for pose_class_name in pose_class_names:\n",
    "    \n",
    "    video_names = sorted([n for n in os.listdir(os.path.join(videos_in_folder, pose_class_name)) \n",
    "                      if not n.startswith('.')])\n",
    "    \n",
    "\n",
    "    \n",
    "    try:\n",
    "        os.mkdir(os.path.join(videos_out_folder, pose_class_name))\n",
    "    except FileExistsError:\n",
    "        pass\n",
    "   \n",
    "    for video_name in tqdm.tqdm(video_names, position=0):\n",
    "        \n",
    "        print(f\"Processing {os.path.join(videos_in_folder, pose_class_name, video_name)}\")\n",
    "        \n",
    "        video_cap = cv2.VideoCapture(os.path.join(videos_in_folder, pose_class_name, video_name))\n",
    "\n",
    "        # Get some video parameters to generate output video with classificaiton.\n",
    "        video_n_frames = video_cap.get(cv2.CAP_PROP_FRAME_COUNT)\n",
    "        video_fps = video_cap.get(cv2.CAP_PROP_FPS)\n",
    "        video_width = int(video_cap.get(cv2.CAP_PROP_FRAME_WIDTH))\n",
    "        video_height = int(video_cap.get(cv2.CAP_PROP_FRAME_HEIGHT))\n",
    "        \n",
    "        #out_video = cv2.VideoWriter(os.path.join(videos_out_folder, pose_class_name, video_name[:-4]+'.avi'), cv2.VideoWriter_fourcc(*'MJPG'), video_fps, (video_width, video_height))\n",
    "        output_frame = None\n",
    "        \n",
    "        with mp_pose.Pose() as pose_tracker:\n",
    "            while True:\n",
    "    # Get next frame of the video.\n",
    "                success, frame = video_cap.read()\n",
    "                if not success:\n",
    "                    break\n",
    "\n",
    "    # Run pose tracker.\n",
    "                input_frame = cv2.cvtColor(frame, cv2.COLOR_BGR2RGB)\n",
    "                input_frame.flags.writeable = False\n",
    "        \n",
    "                result = pose_tracker.process(image=input_frame)\n",
    "        \n",
    "                input_frame.flags.writeable = True\n",
    "                pose_landmarks = result.pose_landmarks\n",
    "        \n",
    "                input_frame = cv2.cvtColor(frame, cv2.COLOR_RGB2BGR)\n",
    "            \n",
    "                \n",
    "                try:\n",
    "                    pose = pose_landmarks.landmark\n",
    "                    pose_row = list(np.array([[landmark.x, landmark.y, landmark.z, landmark.visibility] for landmark in pose]).flatten())\n",
    "                    pose_row.insert(0, pose_class_name)  \n",
    "            \n",
    "                    with open(\"video_coordinate.csv\", mode='a', newline='') as f:\n",
    "                        csv_writer = csv.writer(f, delimiter=',', quotechar='\"', quoting=csv.QUOTE_MINIMAL)\n",
    "                        csv_writer.writerow(pose_row) \n",
    "                except:\n",
    "                    pass\n",
    "\n",
    "    # Draw pose prediction.\n",
    "                #output_frame = input_frame.copy()\n",
    "                #if pose_landmarks is not None:\n",
    "                    #mp_drawing.draw_landmarks(\n",
    "                    #image=output_frame,\n",
    "                    #landmark_list=pose_landmarks,\n",
    "                    #connections=mp_pose.POSE_CONNECTIONS)\n",
    "            \n",
    "                #out_video.write(np.array(output_frame))"
   ]
  },
  {
   "cell_type": "code",
   "execution_count": 38,
   "id": "3e9b5822",
   "metadata": {},
   "outputs": [],
   "source": [
    "video_path = \"C:\\Dev\\Python\\ML\\MinorModel\\yoga_poses_videos_in\\mountain\\IMG_1111.mov\""
   ]
  },
  {
   "cell_type": "code",
   "execution_count": 59,
   "id": "525c41a1",
   "metadata": {},
   "outputs": [
    {
     "ename": "IndentationError",
     "evalue": "expected an indented block (3942386080.py, line 13)",
     "output_type": "error",
     "traceback": [
      "\u001b[1;36m  Cell \u001b[1;32mIn[59], line 13\u001b[1;36m\u001b[0m\n\u001b[1;33m    while True:\u001b[0m\n\u001b[1;37m    ^\u001b[0m\n\u001b[1;31mIndentationError\u001b[0m\u001b[1;31m:\u001b[0m expected an indented block\n"
     ]
    }
   ],
   "source": [
    "video_cap = cv2.VideoCapture(video_path)\n",
    "\n",
    "video_n_frames = video_cap.get(cv2.CAP_PROP_FRAME_COUNT)\n",
    "video_fps = video_cap.get(cv2.CAP_PROP_FPS)\n",
    "video_width = int(video_cap.get(cv2.CAP_PROP_FRAME_WIDTH))\n",
    "video_height = int(video_cap.get(cv2.CAP_PROP_FRAME_HEIGHT))\n",
    "\n",
    "ret, frame = video_cap.read()\n",
    "\n",
    "out_video = cv2.VideoWriter(\"./yoga_poses_videos_out/test1.avi\", cv2.VideoWriter_fourcc(*'MJPG'), video_fps, (video_width, video_height))\n",
    "with mp_pose.Pose() as pose_tracker:\n",
    "    \n",
    "    while True:\n",
    "        # Get next frame of the video.\n",
    "        success, frame = video_cap.read()\n",
    "        if not success:\n",
    "            break\n",
    "        image = cv2.cvtColor(frame, cv2.COLOR_BGR2RGB)\n",
    "        image.flags.writeable = False\n",
    "\n",
    "        # Make Detections\n",
    "        result= pose_tracker.process(image)\n",
    "        pose_landmarks = result.pose_landmarks\n",
    "\n",
    "        # Recolor image back to BGR for rendering\n",
    "        image.flags.writeable = True\n",
    "        image = cv2.cvtColor(image, cv2.COLOR_RGB2BGR)\n",
    "        \n",
    "        output_frame = image.copy()\n",
    "        if pose_landmarks is not None:\n",
    "            mp_drawing.draw_landmarks(\n",
    "            image=output_frame,\n",
    "            landmark_list=pose_landmarks,\n",
    "            connections=mp_pose.POSE_CONNECTIONS)\n",
    "            \n",
    "        out_video.write(np.array(output_frame))\n",
    "\n",
    "\n"
   ]
  },
  {
   "cell_type": "code",
   "execution_count": null,
   "id": "2bbb0e70",
   "metadata": {},
   "outputs": [],
   "source": []
  },
  {
   "cell_type": "markdown",
   "id": "fc06c42b",
   "metadata": {},
   "source": [
    "# Starting on the Model"
   ]
  },
  {
   "cell_type": "code",
   "execution_count": 75,
   "id": "be1a700b",
   "metadata": {},
   "outputs": [],
   "source": [
    "import pandas as pd\n",
    "from sklearn.model_selection import train_test_split"
   ]
  },
  {
   "cell_type": "code",
   "execution_count": 76,
   "id": "2dffa27b",
   "metadata": {},
   "outputs": [],
   "source": [
    "df = pd.read_csv('video_coordinate.csv')"
   ]
  },
  {
   "cell_type": "code",
   "execution_count": 78,
   "id": "0947e263",
   "metadata": {},
   "outputs": [
    {
     "data": {
      "text/html": [
       "<div>\n",
       "<style scoped>\n",
       "    .dataframe tbody tr th:only-of-type {\n",
       "        vertical-align: middle;\n",
       "    }\n",
       "\n",
       "    .dataframe tbody tr th {\n",
       "        vertical-align: top;\n",
       "    }\n",
       "\n",
       "    .dataframe thead th {\n",
       "        text-align: right;\n",
       "    }\n",
       "</style>\n",
       "<table border=\"1\" class=\"dataframe\">\n",
       "  <thead>\n",
       "    <tr style=\"text-align: right;\">\n",
       "      <th></th>\n",
       "      <th>class</th>\n",
       "      <th>nose_x</th>\n",
       "      <th>nose_y</th>\n",
       "      <th>nose_z</th>\n",
       "      <th>nose_v</th>\n",
       "      <th>left_eye_inner_x</th>\n",
       "      <th>left_eye_inner_y</th>\n",
       "      <th>left_eye_inner_z</th>\n",
       "      <th>left_eye_inner_v</th>\n",
       "      <th>left_eye_x</th>\n",
       "      <th>...</th>\n",
       "      <th>right_heel_z</th>\n",
       "      <th>right_heel_v</th>\n",
       "      <th>left_foot_index_x</th>\n",
       "      <th>left_foot_index_y</th>\n",
       "      <th>left_foot_index_z</th>\n",
       "      <th>left_foot_index_v</th>\n",
       "      <th>right_foot_index_x</th>\n",
       "      <th>right_foot_index_y</th>\n",
       "      <th>right_foot_index_z</th>\n",
       "      <th>right_foot_index_v</th>\n",
       "    </tr>\n",
       "  </thead>\n",
       "  <tbody>\n",
       "    <tr>\n",
       "      <th>2635</th>\n",
       "      <td>tree</td>\n",
       "      <td>0.540952</td>\n",
       "      <td>0.370157</td>\n",
       "      <td>-0.610867</td>\n",
       "      <td>0.998689</td>\n",
       "      <td>0.546606</td>\n",
       "      <td>0.360834</td>\n",
       "      <td>-0.570483</td>\n",
       "      <td>0.998560</td>\n",
       "      <td>0.551644</td>\n",
       "      <td>...</td>\n",
       "      <td>0.121898</td>\n",
       "      <td>0.866602</td>\n",
       "      <td>0.530067</td>\n",
       "      <td>0.646003</td>\n",
       "      <td>0.298245</td>\n",
       "      <td>0.596630</td>\n",
       "      <td>0.558066</td>\n",
       "      <td>0.826651</td>\n",
       "      <td>-0.064042</td>\n",
       "      <td>0.916052</td>\n",
       "    </tr>\n",
       "    <tr>\n",
       "      <th>2636</th>\n",
       "      <td>tree</td>\n",
       "      <td>0.541086</td>\n",
       "      <td>0.370236</td>\n",
       "      <td>-0.599057</td>\n",
       "      <td>0.998713</td>\n",
       "      <td>0.546762</td>\n",
       "      <td>0.360910</td>\n",
       "      <td>-0.559091</td>\n",
       "      <td>0.998583</td>\n",
       "      <td>0.551817</td>\n",
       "      <td>...</td>\n",
       "      <td>0.137327</td>\n",
       "      <td>0.869587</td>\n",
       "      <td>0.530633</td>\n",
       "      <td>0.652358</td>\n",
       "      <td>0.282312</td>\n",
       "      <td>0.601163</td>\n",
       "      <td>0.557937</td>\n",
       "      <td>0.826652</td>\n",
       "      <td>-0.043260</td>\n",
       "      <td>0.918196</td>\n",
       "    </tr>\n",
       "    <tr>\n",
       "      <th>2637</th>\n",
       "      <td>tree</td>\n",
       "      <td>0.541177</td>\n",
       "      <td>0.370315</td>\n",
       "      <td>-0.594462</td>\n",
       "      <td>0.998707</td>\n",
       "      <td>0.546808</td>\n",
       "      <td>0.360985</td>\n",
       "      <td>-0.554821</td>\n",
       "      <td>0.998577</td>\n",
       "      <td>0.551867</td>\n",
       "      <td>...</td>\n",
       "      <td>0.147485</td>\n",
       "      <td>0.871700</td>\n",
       "      <td>0.530562</td>\n",
       "      <td>0.652303</td>\n",
       "      <td>0.303158</td>\n",
       "      <td>0.603325</td>\n",
       "      <td>0.557845</td>\n",
       "      <td>0.826812</td>\n",
       "      <td>-0.032156</td>\n",
       "      <td>0.919582</td>\n",
       "    </tr>\n",
       "    <tr>\n",
       "      <th>2638</th>\n",
       "      <td>tree</td>\n",
       "      <td>0.541243</td>\n",
       "      <td>0.370426</td>\n",
       "      <td>-0.593205</td>\n",
       "      <td>0.998734</td>\n",
       "      <td>0.546700</td>\n",
       "      <td>0.361107</td>\n",
       "      <td>-0.553497</td>\n",
       "      <td>0.998608</td>\n",
       "      <td>0.551717</td>\n",
       "      <td>...</td>\n",
       "      <td>0.104934</td>\n",
       "      <td>0.874484</td>\n",
       "      <td>0.530495</td>\n",
       "      <td>0.652202</td>\n",
       "      <td>0.283407</td>\n",
       "      <td>0.607735</td>\n",
       "      <td>0.557820</td>\n",
       "      <td>0.827178</td>\n",
       "      <td>-0.078342</td>\n",
       "      <td>0.922081</td>\n",
       "    </tr>\n",
       "    <tr>\n",
       "      <th>2639</th>\n",
       "      <td>tree</td>\n",
       "      <td>0.541575</td>\n",
       "      <td>0.370545</td>\n",
       "      <td>-0.591754</td>\n",
       "      <td>0.998755</td>\n",
       "      <td>0.546825</td>\n",
       "      <td>0.361238</td>\n",
       "      <td>-0.552208</td>\n",
       "      <td>0.998632</td>\n",
       "      <td>0.551806</td>\n",
       "      <td>...</td>\n",
       "      <td>0.116404</td>\n",
       "      <td>0.877301</td>\n",
       "      <td>0.530491</td>\n",
       "      <td>0.651942</td>\n",
       "      <td>0.284691</td>\n",
       "      <td>0.610310</td>\n",
       "      <td>0.557799</td>\n",
       "      <td>0.827287</td>\n",
       "      <td>-0.062960</td>\n",
       "      <td>0.924173</td>\n",
       "    </tr>\n",
       "  </tbody>\n",
       "</table>\n",
       "<p>5 rows × 133 columns</p>\n",
       "</div>"
      ],
      "text/plain": [
       "     class    nose_x    nose_y    nose_z    nose_v  left_eye_inner_x  \\\n",
       "2635  tree  0.540952  0.370157 -0.610867  0.998689          0.546606   \n",
       "2636  tree  0.541086  0.370236 -0.599057  0.998713          0.546762   \n",
       "2637  tree  0.541177  0.370315 -0.594462  0.998707          0.546808   \n",
       "2638  tree  0.541243  0.370426 -0.593205  0.998734          0.546700   \n",
       "2639  tree  0.541575  0.370545 -0.591754  0.998755          0.546825   \n",
       "\n",
       "      left_eye_inner_y  left_eye_inner_z  left_eye_inner_v  left_eye_x  ...  \\\n",
       "2635          0.360834         -0.570483          0.998560    0.551644  ...   \n",
       "2636          0.360910         -0.559091          0.998583    0.551817  ...   \n",
       "2637          0.360985         -0.554821          0.998577    0.551867  ...   \n",
       "2638          0.361107         -0.553497          0.998608    0.551717  ...   \n",
       "2639          0.361238         -0.552208          0.998632    0.551806  ...   \n",
       "\n",
       "      right_heel_z  right_heel_v  left_foot_index_x  left_foot_index_y  \\\n",
       "2635      0.121898      0.866602           0.530067           0.646003   \n",
       "2636      0.137327      0.869587           0.530633           0.652358   \n",
       "2637      0.147485      0.871700           0.530562           0.652303   \n",
       "2638      0.104934      0.874484           0.530495           0.652202   \n",
       "2639      0.116404      0.877301           0.530491           0.651942   \n",
       "\n",
       "      left_foot_index_z  left_foot_index_v  right_foot_index_x  \\\n",
       "2635           0.298245           0.596630            0.558066   \n",
       "2636           0.282312           0.601163            0.557937   \n",
       "2637           0.303158           0.603325            0.557845   \n",
       "2638           0.283407           0.607735            0.557820   \n",
       "2639           0.284691           0.610310            0.557799   \n",
       "\n",
       "      right_foot_index_y  right_foot_index_z  right_foot_index_v  \n",
       "2635            0.826651           -0.064042            0.916052  \n",
       "2636            0.826652           -0.043260            0.918196  \n",
       "2637            0.826812           -0.032156            0.919582  \n",
       "2638            0.827178           -0.078342            0.922081  \n",
       "2639            0.827287           -0.062960            0.924173  \n",
       "\n",
       "[5 rows x 133 columns]"
      ]
     },
     "execution_count": 78,
     "metadata": {},
     "output_type": "execute_result"
    }
   ],
   "source": [
    "df.tail()"
   ]
  },
  {
   "cell_type": "code",
   "execution_count": 79,
   "id": "526c64d1",
   "metadata": {},
   "outputs": [],
   "source": [
    "#features\n",
    "X = df.drop('class', axis = 1) \n",
    "#target\n",
    "y = df['class'] "
   ]
  },
  {
   "cell_type": "code",
   "execution_count": 80,
   "id": "80abe103",
   "metadata": {},
   "outputs": [],
   "source": [
    "X_train, X_test, y_train, y_test = train_test_split(X, y, test_size = 0.3, random_state = 1234)"
   ]
  },
  {
   "cell_type": "code",
   "execution_count": 81,
   "id": "58b7008e",
   "metadata": {},
   "outputs": [
    {
     "data": {
      "text/plain": [
       "60      mountain\n",
       "59      mountain\n",
       "227     mountain\n",
       "755     mountain\n",
       "2220        tree\n",
       "          ...   \n",
       "864     mountain\n",
       "720     mountain\n",
       "1809           t\n",
       "636     mountain\n",
       "1265           t\n",
       "Name: class, Length: 792, dtype: object"
      ]
     },
     "execution_count": 81,
     "metadata": {},
     "output_type": "execute_result"
    }
   ],
   "source": [
    "y_test"
   ]
  },
  {
   "cell_type": "markdown",
   "id": "3d08ac5a",
   "metadata": {},
   "source": [
    "# ML pipeline"
   ]
  },
  {
   "cell_type": "code",
   "execution_count": 82,
   "id": "aec4b7e2",
   "metadata": {},
   "outputs": [],
   "source": [
    "from sklearn.linear_model import LogisticRegression, RidgeClassifier\n",
    "from sklearn.ensemble import RandomForestClassifier, GradientBoostingClassifier\n",
    "\n",
    "from sklearn.pipeline import make_pipeline \n",
    "from sklearn.preprocessing import StandardScaler "
   ]
  },
  {
   "cell_type": "code",
   "execution_count": 83,
   "id": "d0b37622",
   "metadata": {},
   "outputs": [],
   "source": [
    "pipelines = {\n",
    "    'lr':make_pipeline(StandardScaler(), LogisticRegression()),\n",
    "    'rc':make_pipeline(StandardScaler(), RidgeClassifier()),\n",
    "    'rfc':make_pipeline(StandardScaler(), RandomForestClassifier()),\n",
    "    'gbc':make_pipeline(StandardScaler(), GradientBoostingClassifier()),\n",
    "}"
   ]
  },
  {
   "cell_type": "code",
   "execution_count": 84,
   "id": "cd494461",
   "metadata": {},
   "outputs": [],
   "source": [
    "fit_models = {}\n",
    "for algo, pipeline in pipelines.items():\n",
    "    model = pipeline.fit(X_train, y_train)\n",
    "    fit_models[algo] = model"
   ]
  },
  {
   "cell_type": "code",
   "execution_count": 85,
   "id": "2999c33b",
   "metadata": {},
   "outputs": [
    {
     "data": {
      "text/plain": [
       "{'lr': Pipeline(steps=[('standardscaler', StandardScaler()),\n",
       "                 ('logisticregression', LogisticRegression())]),\n",
       " 'rc': Pipeline(steps=[('standardscaler', StandardScaler()),\n",
       "                 ('ridgeclassifier', RidgeClassifier())]),\n",
       " 'rfc': Pipeline(steps=[('standardscaler', StandardScaler()),\n",
       "                 ('randomforestclassifier', RandomForestClassifier())]),\n",
       " 'gbc': Pipeline(steps=[('standardscaler', StandardScaler()),\n",
       "                 ('gradientboostingclassifier', GradientBoostingClassifier())])}"
      ]
     },
     "execution_count": 85,
     "metadata": {},
     "output_type": "execute_result"
    }
   ],
   "source": [
    "fit_models"
   ]
  },
  {
   "cell_type": "markdown",
   "id": "35355340",
   "metadata": {},
   "source": [
    "# Evaluate Model"
   ]
  },
  {
   "cell_type": "code",
   "execution_count": 86,
   "id": "fdb85b0f",
   "metadata": {},
   "outputs": [
    {
     "data": {
      "text/plain": [
       "array(['mountain', 'mountain', 'mountain', 'mountain', 'tree', 'tree',\n",
       "       't', 't', 'tree', 'tree', 't', 'tree', 'tree', 'mountain',\n",
       "       'mountain', 'mountain', 'mountain', 'tree', 'mountain', 't',\n",
       "       'tree', 't', 'mountain', 't', 't', 'tree', 'tree', 'tree',\n",
       "       'mountain', 'tree', 't', 'mountain', 'mountain', 't', 'mountain',\n",
       "       'mountain', 'mountain', 't', 't', 'mountain', 'tree', 'mountain',\n",
       "       'tree', 't', 'mountain', 'mountain', 'tree', 'tree', 'mountain',\n",
       "       't', 'tree', 'tree', 'mountain', 'mountain', 'mountain', 'tree',\n",
       "       't', 'mountain', 't', 'tree', 'mountain', 'mountain', 't',\n",
       "       'mountain', 'mountain', 'mountain', 't', 'tree', 't', 't',\n",
       "       'mountain', 'tree', 't', 'mountain', 't', 'mountain', 't', 't',\n",
       "       'mountain', 't', 't', 'mountain', 'tree', 'mountain', 't',\n",
       "       'mountain', 'tree', 'mountain', 'tree', 'tree', 't', 'mountain',\n",
       "       'tree', 'mountain', 't', 't', 't', 'mountain', 't', 'mountain',\n",
       "       't', 't', 'tree', 'mountain', 'tree', 't', 't', 'mountain',\n",
       "       'mountain', 't', 'mountain', 't', 'mountain', 't', 'mountain',\n",
       "       'mountain', 'tree', 'tree', 'mountain', 't', 'mountain',\n",
       "       'mountain', 'tree', 't', 'tree', 'mountain', 't', 't', 't', 'tree',\n",
       "       'mountain', 't', 'tree', 'tree', 'mountain', 'tree', 'mountain',\n",
       "       'mountain', 'tree', 'mountain', 'tree', 'mountain', 't',\n",
       "       'mountain', 'mountain', 't', 'tree', 'mountain', 'mountain',\n",
       "       'tree', 'mountain', 'mountain', 'mountain', 'tree', 'mountain',\n",
       "       'tree', 'tree', 'tree', 'tree', 'mountain', 'tree', 't',\n",
       "       'mountain', 'mountain', 't', 't', 'tree', 'mountain', 'mountain',\n",
       "       't', 'mountain', 'tree', 't', 'mountain', 'tree', 'mountain',\n",
       "       'mountain', 't', 'mountain', 'mountain', 'mountain', 'mountain',\n",
       "       't', 't', 'mountain', 't', 't', 'mountain', 't', 'mountain', 't',\n",
       "       't', 't', 'mountain', 'mountain', 'tree', 'mountain', 'tree',\n",
       "       'mountain', 't', 'mountain', 'mountain', 'tree', 'mountain',\n",
       "       'tree', 'tree', 't', 'tree', 'mountain', 't', 't', 't', 'mountain',\n",
       "       'tree', 'tree', 't', 't', 'mountain', 'tree', 'tree', 'mountain',\n",
       "       'mountain', 'mountain', 't', 'tree', 'mountain', 'tree', 'tree',\n",
       "       'mountain', 'tree', 't', 'mountain', 'mountain', 'mountain',\n",
       "       'tree', 'mountain', 'mountain', 'mountain', 'mountain', 't', 't',\n",
       "       't', 'tree', 't', 'tree', 't', 't', 'tree', 'mountain', 't', 't',\n",
       "       'tree', 'mountain', 't', 'tree', 'tree', 'tree', 'mountain',\n",
       "       'tree', 'mountain', 'mountain', 't', 'mountain', 'tree', 't',\n",
       "       'mountain', 't', 't', 'mountain', 'mountain', 't', 't', 't', 't',\n",
       "       'tree', 'mountain', 'mountain', 't', 'mountain', 'mountain', 't',\n",
       "       'tree', 't', 't', 'tree', 't', 't', 'mountain', 'tree', 'mountain',\n",
       "       'tree', 'mountain', 't', 'mountain', 'tree', 'tree', 't', 't', 't',\n",
       "       'mountain', 't', 'mountain', 't', 'tree', 'mountain', 'mountain',\n",
       "       't', 'mountain', 't', 't', 'mountain', 'mountain', 'tree', 'tree',\n",
       "       't', 'tree', 't', 't', 'mountain', 't', 'mountain', 'mountain',\n",
       "       'mountain', 'mountain', 'tree', 't', 'tree', 'mountain', 't',\n",
       "       'mountain', 't', 't', 'mountain', 'mountain', 'mountain', 't',\n",
       "       'tree', 't', 'mountain', 'tree', 'mountain', 'tree', 'mountain',\n",
       "       'mountain', 't', 't', 'tree', 't', 't', 'tree', 't', 'tree', 't',\n",
       "       't', 'tree', 'tree', 'mountain', 't', 'mountain', 'tree',\n",
       "       'mountain', 'mountain', 'tree', 'mountain', 'mountain', 'mountain',\n",
       "       'mountain', 'mountain', 't', 't', 'tree', 'mountain', 'mountain',\n",
       "       'mountain', 'mountain', 'mountain', 'tree', 't', 't', 'tree',\n",
       "       'tree', 't', 'mountain', 'tree', 'mountain', 't', 'tree',\n",
       "       'mountain', 't', 'mountain', 'mountain', 't', 'mountain',\n",
       "       'mountain', 't', 'mountain', 'tree', 't', 't', 'tree', 't',\n",
       "       'mountain', 'mountain', 'tree', 't', 'mountain', 't', 'mountain',\n",
       "       'mountain', 'tree', 'tree', 'tree', 'tree', 'tree', 'mountain',\n",
       "       't', 'mountain', 'tree', 't', 'mountain', 'tree', 'tree', 'tree',\n",
       "       'tree', 'tree', 'tree', 't', 't', 'mountain', 'tree', 't', 't',\n",
       "       'tree', 'mountain', 't', 'mountain', 'tree', 't', 't', 'tree',\n",
       "       'tree', 'tree', 'mountain', 'mountain', 't', 'tree', 'mountain',\n",
       "       'tree', 'tree', 't', 'tree', 'tree', 't', 'mountain', 'tree',\n",
       "       'tree', 't', 'tree', 't', 'mountain', 'mountain', 'tree', 't', 't',\n",
       "       't', 'tree', 'tree', 'tree', 'mountain', 'tree', 'mountain',\n",
       "       'mountain', 't', 'tree', 'mountain', 'tree', 't', 'tree',\n",
       "       'mountain', 't', 't', 't', 'mountain', 'tree', 't', 't', 'tree',\n",
       "       't', 't', 't', 'tree', 'tree', 'tree', 't', 't', 't', 'mountain',\n",
       "       'mountain', 'tree', 'mountain', 'mountain', 'mountain', 'tree',\n",
       "       'mountain', 'tree', 'tree', 't', 't', 'mountain', 'tree', 'tree',\n",
       "       'mountain', 't', 'mountain', 't', 'mountain', 'mountain', 'tree',\n",
       "       'mountain', 't', 'mountain', 't', 't', 'mountain', 'mountain', 't',\n",
       "       't', 't', 't', 'mountain', 'mountain', 'tree', 'tree', 'mountain',\n",
       "       'mountain', 'tree', 'tree', 'mountain', 'tree', 'mountain', 'tree',\n",
       "       'mountain', 't', 'mountain', 'mountain', 'mountain', 'tree',\n",
       "       'tree', 'tree', 't', 'tree', 'tree', 'tree', 'mountain',\n",
       "       'mountain', 't', 'mountain', 'mountain', 'tree', 'tree',\n",
       "       'mountain', 'tree', 't', 't', 'mountain', 'tree', 'tree', 'tree',\n",
       "       'tree', 't', 't', 'tree', 'mountain', 'tree', 'mountain', 't', 't',\n",
       "       'mountain', 'mountain', 'mountain', 't', 'mountain', 'mountain',\n",
       "       'mountain', 'tree', 't', 'mountain', 'mountain', 'mountain', 't',\n",
       "       'tree', 'tree', 'tree', 'mountain', 't', 'tree', 't', 't',\n",
       "       'mountain', 'tree', 'tree', 'tree', 't', 'tree', 'mountain',\n",
       "       'mountain', 't', 'mountain', 'mountain', 't', 'mountain', 'tree',\n",
       "       'mountain', 'mountain', 'mountain', 't', 't', 'tree', 't', 't',\n",
       "       't', 'mountain', 'mountain', 't', 't', 't', 't', 'mountain',\n",
       "       'tree', 't', 'tree', 'tree', 't', 'tree', 't', 'mountain',\n",
       "       'mountain', 'tree', 'tree', 'tree', 'mountain', 'tree', 'mountain',\n",
       "       'tree', 'mountain', 'tree', 't', 'tree', 'mountain', 't', 't', 't',\n",
       "       'mountain', 'tree', 'tree', 'mountain', 'mountain', 't', 'tree',\n",
       "       'mountain', 'tree', 't', 'mountain', 't', 'tree', 'mountain', 't',\n",
       "       't', 'tree', 't', 't', 't', 'tree', 'mountain', 'tree', 'mountain',\n",
       "       'tree', 'mountain', 't', 'mountain', 'mountain', 't', 't',\n",
       "       'mountain', 't', 'tree', 'mountain', 'tree', 't', 'mountain',\n",
       "       'tree', 'tree', 't', 'tree', 'tree', 't', 'tree', 'mountain',\n",
       "       'tree', 'mountain', 'tree', 'tree', 'tree', 'tree', 'mountain',\n",
       "       'mountain', 't', 'tree', 't', 'mountain', 'mountain', 'mountain',\n",
       "       't', 'mountain', 'tree', 'tree', 'mountain', 'mountain', 't',\n",
       "       'tree', 'tree', 'tree', 'tree', 'tree', 't', 't', 'tree', 't',\n",
       "       'mountain', 'tree', 'mountain', 't', 't', 'mountain', 't', 't',\n",
       "       'mountain', 'tree', 'mountain', 'mountain', 't', 'mountain',\n",
       "       'tree', 'tree', 'tree', 'tree', 't', 'tree', 'mountain', 't',\n",
       "       'tree', 't', 't', 'tree', 'tree', 't', 't', 'mountain', 'tree',\n",
       "       'tree', 'mountain', 'mountain', 'tree', 'tree', 'tree', 'tree',\n",
       "       'mountain', 'mountain', 'mountain', 'mountain', 'tree', 't',\n",
       "       'tree', 'mountain', 'tree', 'tree', 'mountain', 't', 'tree',\n",
       "       'mountain', 't', 'tree', 'tree', 'tree', 'mountain', 'tree',\n",
       "       'mountain', 'mountain', 'mountain', 't', 'mountain', 't'],\n",
       "      dtype=object)"
      ]
     },
     "execution_count": 86,
     "metadata": {},
     "output_type": "execute_result"
    }
   ],
   "source": [
    "fit_models['rfc'].predict(X_test)"
   ]
  },
  {
   "cell_type": "code",
   "execution_count": 87,
   "id": "786224af",
   "metadata": {},
   "outputs": [],
   "source": [
    "from sklearn.metrics import accuracy_score\n",
    "import pickle"
   ]
  },
  {
   "cell_type": "code",
   "execution_count": 88,
   "id": "317ef84f",
   "metadata": {},
   "outputs": [
    {
     "name": "stdout",
     "output_type": "stream",
     "text": [
      "lr: 1.0\n",
      "rc: 1.0\n",
      "rfc: 1.0\n",
      "gbc: 1.0\n"
     ]
    }
   ],
   "source": [
    "for algo, model in fit_models.items():\n",
    "    yhat = model.predict(X_test)\n",
    "    print(algo, accuracy_score(y_test, yhat), sep = \": \")"
   ]
  },
  {
   "cell_type": "code",
   "execution_count": 89,
   "id": "713267c2",
   "metadata": {},
   "outputs": [
    {
     "data": {
      "text/plain": [
       "array(['mountain', 'mountain', 'mountain', 'mountain', 'tree', 'tree',\n",
       "       't', 't', 'tree', 'tree', 't', 'tree', 'tree', 'mountain',\n",
       "       'mountain', 'mountain', 'mountain', 'tree', 'mountain', 't',\n",
       "       'tree', 't', 'mountain', 't', 't', 'tree', 'tree', 'tree',\n",
       "       'mountain', 'tree', 't', 'mountain', 'mountain', 't', 'mountain',\n",
       "       'mountain', 'mountain', 't', 't', 'mountain', 'tree', 'mountain',\n",
       "       'tree', 't', 'mountain', 'mountain', 'tree', 'tree', 'mountain',\n",
       "       't', 'tree', 'tree', 'mountain', 'mountain', 'mountain', 'tree',\n",
       "       't', 'mountain', 't', 'tree', 'mountain', 'mountain', 't',\n",
       "       'mountain', 'mountain', 'mountain', 't', 'tree', 't', 't',\n",
       "       'mountain', 'tree', 't', 'mountain', 't', 'mountain', 't', 't',\n",
       "       'mountain', 't', 't', 'mountain', 'tree', 'mountain', 't',\n",
       "       'mountain', 'tree', 'mountain', 'tree', 'tree', 't', 'mountain',\n",
       "       'tree', 'mountain', 't', 't', 't', 'mountain', 't', 'mountain',\n",
       "       't', 't', 'tree', 'mountain', 'tree', 't', 't', 'mountain',\n",
       "       'mountain', 't', 'mountain', 't', 'mountain', 't', 'mountain',\n",
       "       'mountain', 'tree', 'tree', 'mountain', 't', 'mountain',\n",
       "       'mountain', 'tree', 't', 'tree', 'mountain', 't', 't', 't', 'tree',\n",
       "       'mountain', 't', 'tree', 'tree', 'mountain', 'tree', 'mountain',\n",
       "       'mountain', 'tree', 'mountain', 'tree', 'mountain', 't',\n",
       "       'mountain', 'mountain', 't', 'tree', 'mountain', 'mountain',\n",
       "       'tree', 'mountain', 'mountain', 'mountain', 'tree', 'mountain',\n",
       "       'tree', 'tree', 'tree', 'tree', 'mountain', 'tree', 't',\n",
       "       'mountain', 'mountain', 't', 't', 'tree', 'mountain', 'mountain',\n",
       "       't', 'mountain', 'tree', 't', 'mountain', 'tree', 'mountain',\n",
       "       'mountain', 't', 'mountain', 'mountain', 'mountain', 'mountain',\n",
       "       't', 't', 'mountain', 't', 't', 'mountain', 't', 'mountain', 't',\n",
       "       't', 't', 'mountain', 'mountain', 'tree', 'mountain', 'tree',\n",
       "       'mountain', 't', 'mountain', 'mountain', 'tree', 'mountain',\n",
       "       'tree', 'tree', 't', 'tree', 'mountain', 't', 't', 't', 'mountain',\n",
       "       'tree', 'tree', 't', 't', 'mountain', 'tree', 'tree', 'mountain',\n",
       "       'mountain', 'mountain', 't', 'tree', 'mountain', 'tree', 'tree',\n",
       "       'mountain', 'tree', 't', 'mountain', 'mountain', 'mountain',\n",
       "       'tree', 'mountain', 'mountain', 'mountain', 'mountain', 't', 't',\n",
       "       't', 'tree', 't', 'tree', 't', 't', 'tree', 'mountain', 't', 't',\n",
       "       'tree', 'mountain', 't', 'tree', 'tree', 'tree', 'mountain',\n",
       "       'tree', 'mountain', 'mountain', 't', 'mountain', 'tree', 't',\n",
       "       'mountain', 't', 't', 'mountain', 'mountain', 't', 't', 't', 't',\n",
       "       'tree', 'mountain', 'mountain', 't', 'mountain', 'mountain', 't',\n",
       "       'tree', 't', 't', 'tree', 't', 't', 'mountain', 'tree', 'mountain',\n",
       "       'tree', 'mountain', 't', 'mountain', 'tree', 'tree', 't', 't', 't',\n",
       "       'mountain', 't', 'mountain', 't', 'tree', 'mountain', 'mountain',\n",
       "       't', 'mountain', 't', 't', 'mountain', 'mountain', 'tree', 'tree',\n",
       "       't', 'tree', 't', 't', 'mountain', 't', 'mountain', 'mountain',\n",
       "       'mountain', 'mountain', 'tree', 't', 'tree', 'mountain', 't',\n",
       "       'mountain', 't', 't', 'mountain', 'mountain', 'mountain', 't',\n",
       "       'tree', 't', 'mountain', 'tree', 'mountain', 'tree', 'mountain',\n",
       "       'mountain', 't', 't', 'tree', 't', 't', 'tree', 't', 'tree', 't',\n",
       "       't', 'tree', 'tree', 'mountain', 't', 'mountain', 'tree',\n",
       "       'mountain', 'mountain', 'tree', 'mountain', 'mountain', 'mountain',\n",
       "       'mountain', 'mountain', 't', 't', 'tree', 'mountain', 'mountain',\n",
       "       'mountain', 'mountain', 'mountain', 'tree', 't', 't', 'tree',\n",
       "       'tree', 't', 'mountain', 'tree', 'mountain', 't', 'tree',\n",
       "       'mountain', 't', 'mountain', 'mountain', 't', 'mountain',\n",
       "       'mountain', 't', 'mountain', 'tree', 't', 't', 'tree', 't',\n",
       "       'mountain', 'mountain', 'tree', 't', 'mountain', 't', 'mountain',\n",
       "       'mountain', 'tree', 'tree', 'tree', 'tree', 'tree', 'mountain',\n",
       "       't', 'mountain', 'tree', 't', 'mountain', 'tree', 'tree', 'tree',\n",
       "       'tree', 'tree', 'tree', 't', 't', 'mountain', 'tree', 't', 't',\n",
       "       'tree', 'mountain', 't', 'mountain', 'tree', 't', 't', 'tree',\n",
       "       'tree', 'tree', 'mountain', 'mountain', 't', 'tree', 'mountain',\n",
       "       'tree', 'tree', 't', 'tree', 'tree', 't', 'mountain', 'tree',\n",
       "       'tree', 't', 'tree', 't', 'mountain', 'mountain', 'tree', 't', 't',\n",
       "       't', 'tree', 'tree', 'tree', 'mountain', 'tree', 'mountain',\n",
       "       'mountain', 't', 'tree', 'mountain', 'tree', 't', 'tree',\n",
       "       'mountain', 't', 't', 't', 'mountain', 'tree', 't', 't', 'tree',\n",
       "       't', 't', 't', 'tree', 'tree', 'tree', 't', 't', 't', 'mountain',\n",
       "       'mountain', 'tree', 'mountain', 'mountain', 'mountain', 'tree',\n",
       "       'mountain', 'tree', 'tree', 't', 't', 'mountain', 'tree', 'tree',\n",
       "       'mountain', 't', 'mountain', 't', 'mountain', 'mountain', 'tree',\n",
       "       'mountain', 't', 'mountain', 't', 't', 'mountain', 'mountain', 't',\n",
       "       't', 't', 't', 'mountain', 'mountain', 'tree', 'tree', 'mountain',\n",
       "       'mountain', 'tree', 'tree', 'mountain', 'tree', 'mountain', 'tree',\n",
       "       'mountain', 't', 'mountain', 'mountain', 'mountain', 'tree',\n",
       "       'tree', 'tree', 't', 'tree', 'tree', 'tree', 'mountain',\n",
       "       'mountain', 't', 'mountain', 'mountain', 'tree', 'tree',\n",
       "       'mountain', 'tree', 't', 't', 'mountain', 'tree', 'tree', 'tree',\n",
       "       'tree', 't', 't', 'tree', 'mountain', 'tree', 'mountain', 't', 't',\n",
       "       'mountain', 'mountain', 'mountain', 't', 'mountain', 'mountain',\n",
       "       'mountain', 'tree', 't', 'mountain', 'mountain', 'mountain', 't',\n",
       "       'tree', 'tree', 'tree', 'mountain', 't', 'tree', 't', 't',\n",
       "       'mountain', 'tree', 'tree', 'tree', 't', 'tree', 'mountain',\n",
       "       'mountain', 't', 'mountain', 'mountain', 't', 'mountain', 'tree',\n",
       "       'mountain', 'mountain', 'mountain', 't', 't', 'tree', 't', 't',\n",
       "       't', 'mountain', 'mountain', 't', 't', 't', 't', 'mountain',\n",
       "       'tree', 't', 'tree', 'tree', 't', 'tree', 't', 'mountain',\n",
       "       'mountain', 'tree', 'tree', 'tree', 'mountain', 'tree', 'mountain',\n",
       "       'tree', 'mountain', 'tree', 't', 'tree', 'mountain', 't', 't', 't',\n",
       "       'mountain', 'tree', 'tree', 'mountain', 'mountain', 't', 'tree',\n",
       "       'mountain', 'tree', 't', 'mountain', 't', 'tree', 'mountain', 't',\n",
       "       't', 'tree', 't', 't', 't', 'tree', 'mountain', 'tree', 'mountain',\n",
       "       'tree', 'mountain', 't', 'mountain', 'mountain', 't', 't',\n",
       "       'mountain', 't', 'tree', 'mountain', 'tree', 't', 'mountain',\n",
       "       'tree', 'tree', 't', 'tree', 'tree', 't', 'tree', 'mountain',\n",
       "       'tree', 'mountain', 'tree', 'tree', 'tree', 'tree', 'mountain',\n",
       "       'mountain', 't', 'tree', 't', 'mountain', 'mountain', 'mountain',\n",
       "       't', 'mountain', 'tree', 'tree', 'mountain', 'mountain', 't',\n",
       "       'tree', 'tree', 'tree', 'tree', 'tree', 't', 't', 'tree', 't',\n",
       "       'mountain', 'tree', 'mountain', 't', 't', 'mountain', 't', 't',\n",
       "       'mountain', 'tree', 'mountain', 'mountain', 't', 'mountain',\n",
       "       'tree', 'tree', 'tree', 'tree', 't', 'tree', 'mountain', 't',\n",
       "       'tree', 't', 't', 'tree', 'tree', 't', 't', 'mountain', 'tree',\n",
       "       'tree', 'mountain', 'mountain', 'tree', 'tree', 'tree', 'tree',\n",
       "       'mountain', 'mountain', 'mountain', 'mountain', 'tree', 't',\n",
       "       'tree', 'mountain', 'tree', 'tree', 'mountain', 't', 'tree',\n",
       "       'mountain', 't', 'tree', 'tree', 'tree', 'mountain', 'tree',\n",
       "       'mountain', 'mountain', 'mountain', 't', 'mountain', 't'],\n",
       "      dtype=object)"
      ]
     },
     "execution_count": 89,
     "metadata": {},
     "output_type": "execute_result"
    }
   ],
   "source": [
    "fit_models['rfc'].predict(X_test)"
   ]
  },
  {
   "cell_type": "code",
   "execution_count": 90,
   "id": "202ccb66",
   "metadata": {},
   "outputs": [
    {
     "data": {
      "text/plain": [
       "60      mountain\n",
       "59      mountain\n",
       "227     mountain\n",
       "755     mountain\n",
       "2220        tree\n",
       "          ...   \n",
       "864     mountain\n",
       "720     mountain\n",
       "1809           t\n",
       "636     mountain\n",
       "1265           t\n",
       "Name: class, Length: 792, dtype: object"
      ]
     },
     "execution_count": 90,
     "metadata": {},
     "output_type": "execute_result"
    }
   ],
   "source": [
    "y_test"
   ]
  },
  {
   "cell_type": "markdown",
   "id": "9a474213",
   "metadata": {},
   "source": [
    "# Save Model"
   ]
  },
  {
   "cell_type": "code",
   "execution_count": 91,
   "id": "fa0d4ba9",
   "metadata": {},
   "outputs": [],
   "source": [
    "with open('mid_poses.pkl', 'wb') as f:\n",
    "    pickle.dump(fit_models['rfc'], f)"
   ]
  }
 ],
 "metadata": {
  "kernelspec": {
   "display_name": "venv",
   "language": "python",
   "name": "python3"
  },
  "language_info": {
   "codemirror_mode": {
    "name": "ipython",
    "version": 3
   },
   "file_extension": ".py",
   "mimetype": "text/x-python",
   "name": "python",
   "nbconvert_exporter": "python",
   "pygments_lexer": "ipython3",
   "version": "3.10.1"
  },
  "vscode": {
   "interpreter": {
    "hash": "fb815eb1d048782cc97d23db6955d372697eef8325563321e950dadcbc29d048"
   }
  }
 },
 "nbformat": 4,
 "nbformat_minor": 5
}
