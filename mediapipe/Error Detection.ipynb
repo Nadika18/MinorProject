{
 "cells": [
  {
   "cell_type": "code",
   "execution_count": 6,
   "id": "4857da14",
   "metadata": {},
   "outputs": [],
   "source": [
    "import mediapipe as mp\n",
    "import cv2\n",
    "import pickle\n",
    "import sklearn\n",
    "import math\n",
    "import numpy as np\n",
    "import pandas as pd\n",
    "import warnings\n",
    "warnings.filterwarnings(\"ignore\")\n",
    "mp_drawing = mp.solutions.drawing_utils  # Drawing helpers\n",
    "mp_pose = mp.solutions.pose  # Mediapipe Solutions\n"
   ]
  },
  {
   "cell_type": "code",
   "execution_count": 7,
   "id": "b3eb80b1",
   "metadata": {},
   "outputs": [],
   "source": [
    "with open('mid_poses.pkl', 'rb') as f:\n",
    "    model = pickle.load(f)"
   ]
  },
  {
   "cell_type": "code",
   "execution_count": 5,
   "id": "bfd741fa",
   "metadata": {},
   "outputs": [
    {
     "data": {
      "text/plain": [
       "['Collecting Scikit-learn',\n",
       " '  Using cached scikit_learn-1.2.1-cp310-cp310-win_amd64.whl (8.3 MB)',\n",
       " 'Collecting threadpoolctl>=2.0.0',\n",
       " '  Using cached threadpoolctl-3.1.0-py3-none-any.whl (14 kB)',\n",
       " 'Collecting scipy>=1.3.2',\n",
       " '  Downloading scipy-1.10.1-cp310-cp310-win_amd64.whl (42.5 MB)',\n",
       " 'Collecting joblib>=1.1.1',\n",
       " '  Using cached joblib-1.2.0-py3-none-any.whl (297 kB)',\n",
       " 'Requirement already satisfied: numpy>=1.17.3 in c:\\\\users\\\\windows\\\\desktop\\\\minorproject\\\\venv\\\\lib\\\\site-packages (from Scikit-learn) (1.24.1)',\n",
       " 'Installing collected packages: threadpoolctl, scipy, joblib, Scikit-learn',\n",
       " 'Successfully installed Scikit-learn-1.2.1 joblib-1.2.0 scipy-1.10.1 threadpoolctl-3.1.0',\n",
       " 'WARNING: You are using pip version 21.2.4; however, version 23.0.1 is available.',\n",
       " \"You should consider upgrading via the 'C:\\\\Users\\\\Windows\\\\Desktop\\\\MinorProject\\\\venv\\\\Scripts\\\\python.exe -m pip install --upgrade pip' command.\"]"
      ]
     },
     "execution_count": 5,
     "metadata": {},
     "output_type": "execute_result"
    }
   ],
   "source": [
    "!!pip install sklearn\n",
    "!!pip install Scikit-learn"
   ]
  },
  {
   "cell_type": "code",
   "execution_count": 8,
   "id": "e5d6f36f",
   "metadata": {},
   "outputs": [],
   "source": [
    "landmark_names = [\n",
    "        'nose',\n",
    "        'left_eye_inner', 'left_eye', 'left_eye_outer',\n",
    "        'right_eye_inner', 'right_eye', 'right_eye_outer',\n",
    "        'left_ear', 'right_ear',\n",
    "        'mouth_left', 'mouth_right',\n",
    "        'left_shoulder', 'right_shoulder',\n",
    "        'left_elbow', 'right_elbow',\n",
    "        'left_wrist', 'right_wrist',\n",
    "        'left_pinky_1', 'right_pinky_1',\n",
    "        'left_index_1', 'right_index_1',\n",
    "        'left_thumb_2', 'right_thumb_2',\n",
    "        'left_hip', 'right_hip',\n",
    "        'left_knee', 'right_knee',\n",
    "        'left_ankle', 'right_ankle',\n",
    "        'left_heel', 'right_heel',\n",
    "        'left_foot_index', 'right_foot_index'\n",
    "    ]"
   ]
  },
  {
   "cell_type": "code",
   "execution_count": 9,
   "id": "3966a094",
   "metadata": {},
   "outputs": [],
   "source": [
    "def return_angle(landmark1, landmark2, landmark3):\n",
    "    x1, y1 = landmark1.x, landmark1.y\n",
    "    x2, y2 = landmark2.x, landmark2.y\n",
    "    x3, y3 = landmark3.x, landmark3.y\n",
    "    \n",
    "    angle = math.degrees(math.atan2(y3 - y2, x3 - x2) - math.atan2(y1 - y2, x1 - x2))\n",
    "    \n",
    "    if angle < 0:\n",
    "        angle += 360\n",
    "        \n",
    "    # Return the calculated angle.\n",
    "    return angle"
   ]
  },
  {
   "cell_type": "code",
   "execution_count": 10,
   "id": "6bfd6ecc",
   "metadata": {},
   "outputs": [],
   "source": [
    "arms_err_msgs = ['move left arm up', 'move left arm down', \n",
    "                 'move right arm up', 'move right arm down',\n",
    "                'straighten your left arm', 'straighten your right arm']\n",
    "\n",
    "legs_err_msgs = ['move left leg up', 'move left leg down', \n",
    "                 'move right leg up', 'move right leg down'\n",
    "                'straighten your left leg', 'straighten your right leg'\n",
    "                'bend your knees', 'bend your left knee', 'bend your right knee', 'move your legs apart', \n",
    "                 'bring your legs closer']\n",
    "\n",
    "hips_error_message = ['lean to the left', 'lean to the right', 'stand straight']\n",
    "\n",
    "back_error_message = ['bend your back', 'straighten your back']\n",
    "\n",
    "head_error_message = ['put your head straight']"
   ]
  },
  {
   "cell_type": "code",
   "execution_count": 11,
   "id": "9f132fc8",
   "metadata": {},
   "outputs": [],
   "source": [
    "joints = [\n",
    "    'left_elbow',\n",
    "    'right_elbow',\n",
    "    'right_shoulder',\n",
    "    'left_shoulder',\n",
    "    'left_knee',\n",
    "    'right_knee',\n",
    "    'head',\n",
    "    'left_hip',\n",
    "    'right_hip',\n",
    "    'left_ankle',\n",
    "    'right_ankle'\n",
    "]\n"
   ]
  },
  {
   "cell_type": "markdown",
   "id": "190d40b4",
   "metadata": {},
   "source": [
    "# Error checking for T - pose"
   ]
  },
  {
   "cell_type": "code",
   "execution_count": 12,
   "id": "32fe902e",
   "metadata": {},
   "outputs": [],
   "source": [
    "input_frame = cv2.imread('test.jpg')\n",
    "input_frame = cv2.cvtColor(input_frame, cv2.COLOR_BGR2RGB)\n",
    "\n",
    "# Initialize fresh pose tracker and run it.\n",
    "with mp_pose.Pose() as pose_tracker:\n",
    "    result = pose_tracker.process(image=input_frame)\n",
    "    pose_landmarks = result.pose_landmarks\n",
    "\n",
    "image = cv2.cvtColor(input_frame, cv2.COLOR_RGB2BGR)\n",
    "\n",
    "output_frame = image.copy()\n",
    "\n",
    "pose = pose_landmarks.landmark\n",
    "\n",
    "\n",
    "left_elbow_angle = return_angle(pose[landmark_names.index('left_wrist')], \n",
    "                                   pose[landmark_names.index('left_elbow')], \n",
    "                                   pose[landmark_names.index('left_shoulder')])\n",
    "\n",
    "right_elbow_angle = return_angle(pose[landmark_names.index('right_shoulder')], \n",
    "                                   pose[landmark_names.index('right_elbow')], \n",
    "                                   pose[landmark_names.index('right_wrist')])\n",
    "\n",
    "left_shoulder_angle = return_angle(pose[landmark_names.index('left_elbow')], \n",
    "                                   pose[landmark_names.index('left_shoulder')], \n",
    "                                   pose[landmark_names.index('left_hip')])\n",
    "\n",
    "right_shoulder_angle = return_angle(pose[landmark_names.index('right_hip')], \n",
    "                                    pose[landmark_names.index('right_shoulder')], \n",
    "                                    pose[landmark_names.index('right_elbow')])\n",
    "\n",
    "left_hip_angle = return_angle(pose[landmark_names.index('left_knee')], \n",
    "                              pose[landmark_names.index('left_hip')], \n",
    "                              pose[landmark_names.index('left_shoulder')])\n",
    "\n",
    "right_hip_angle = return_angle(pose[landmark_names.index('right_shoulder')], \n",
    "                              pose[landmark_names.index('right_hip')], \n",
    "                              pose[landmark_names.index('right_knee')])\n",
    "\n",
    "left_knee_angle = return_angle(pose[landmark_names.index('left_ankle')], \n",
    "                              pose[landmark_names.index('left_knee')], \n",
    "                              pose[landmark_names.index('left_hip')])\n",
    "\n",
    "right_knee_angle = return_angle(pose[landmark_names.index('right_hip')], \n",
    "                              pose[landmark_names.index('right_knee')], \n",
    "                              pose[landmark_names.index('right_ankle')])"
   ]
  },
  {
   "cell_type": "code",
   "execution_count": 21,
   "id": "f7b7728f",
   "metadata": {},
   "outputs": [],
   "source": [
    "def compute_joint_angles(pose):\n",
    "    left_elbow_angle = return_angle(pose[landmark_names.index('left_wrist')], \n",
    "                                       pose[landmark_names.index('left_elbow')], \n",
    "                                       pose[landmark_names.index('left_shoulder')])\n",
    "    right_elbow_angle = return_angle(pose[landmark_names.index('right_shoulder')], \n",
    "                                       pose[landmark_names.index('right_elbow')], \n",
    "                                       pose[landmark_names.index('right_wrist')])\n",
    "    left_shoulder_angle = return_angle(pose[landmark_names.index('left_elbow')], \n",
    "                                       pose[landmark_names.index('left_shoulder')], \n",
    "                                       pose[landmark_names.index('left_hip')])\n",
    "    right_shoulder_angle = return_angle(pose[landmark_names.index('right_hip')], \n",
    "                                        pose[landmark_names.index('right_shoulder')], \n",
    "                                        pose[landmark_names.index('right_elbow')])\n",
    "    left_hip_angle = return_angle(pose[landmark_names.index('left_knee')], \n",
    "                                  pose[landmark_names.index('left_hip')], \n",
    "                                  pose[landmark_names.index('left_shoulder')])\n",
    "    right_hip_angle = return_angle(pose[landmark_names.index('right_shoulder')], \n",
    "                                  pose[landmark_names.index('right_hip')], \n",
    "                                  pose[landmark_names.index('right_knee')])\n",
    "    left_knee_angle = return_angle(pose[landmark_names.index('left_ankle')], \n",
    "                                  pose[landmark_names.index('left_knee')], \n",
    "                                  pose[landmark_names.index('left_hip')])\n",
    "    right_knee_angle = return_angle(pose[landmark_names.index('right_hip')], \n",
    "                                  pose[landmark_names.index('right_knee')], \n",
    "                                  pose[landmark_names.index('right_ankle')])\n",
    "    \n",
    "    computed_angles = {'left_elbow_angle' : left_elbow_angle, \n",
    "                       'right_elbow_angle' :right_elbow_angle, \n",
    "                       'left_shoulder_angle' :left_shoulder_angle, \n",
    "                       'right_shoulder_angle' :right_shoulder_angle, \n",
    "                       'left_hip_angle' :left_hip_angle, \n",
    "                       'right_hip_angle' :right_hip_angle,\n",
    "                       'left_knee_angle' :left_knee_angle, \n",
    "                       'right_knee_angle' :right_knee_angle}\n",
    "    return computed_angles"
   ]
  },
  {
   "cell_type": "code",
   "execution_count": 22,
   "id": "bd9de53a",
   "metadata": {},
   "outputs": [
    {
     "name": "stdout",
     "output_type": "stream",
     "text": [
      "left_elbow_angle\n",
      "right_elbow_angle\n",
      "left_shoulder_angle\n",
      "right_shoulder_angle\n",
      "left_hip_angle\n",
      "right_hip_angle\n",
      "left_knee_angle\n",
      "right_knee_angle\n"
     ]
    }
   ],
   "source": [
    "for angle in compute_joint_angles(pose):\n",
    "    print(angle)\n",
    "computed_angles=compute_joint_angles(pose)"
   ]
  },
  {
   "cell_type": "code",
   "execution_count": 23,
   "id": "10bd5ff2",
   "metadata": {},
   "outputs": [
    {
     "name": "stdout",
     "output_type": "stream",
     "text": [
      "left_elbow_angle\n",
      "right_elbow_angle\n",
      "left_shoulder_angle\n",
      "right_shoulder_angle\n",
      "left_hip_angle\n",
      "right_hip_angle\n",
      "left_knee_angle\n",
      "right_knee_angle\n"
     ]
    }
   ],
   "source": [
    "for angle in computed_angles:\n",
    "    print(angle)"
   ]
  },
  {
   "cell_type": "markdown",
   "id": "7aa2bf8b",
   "metadata": {},
   "source": [
    "## Get Model Predictions"
   ]
  },
  {
   "cell_type": "code",
   "execution_count": 26,
   "id": "a2a5d9cb",
   "metadata": {},
   "outputs": [],
   "source": [
    "def get_pose_prediction(pose):\n",
    "    pose_row = list(np.array([[landmark.x, landmark.y, landmark.z, landmark.visibility] for landmark in pose]).flatten())                    \n",
    "    X = pd.DataFrame([pose_row])\n",
    "    pose_detection_class = model.predict(X)[0]\n",
    "    pose_detection_probability = model.predict_proba(X)[0]\n",
    "    return pose_detection_class, pose_detection_probability"
   ]
  },
  {
   "cell_type": "code",
   "execution_count": 27,
   "id": "030ee102",
   "metadata": {},
   "outputs": [
    {
     "data": {
      "text/plain": [
       "0.47"
      ]
     },
     "execution_count": 27,
     "metadata": {},
     "output_type": "execute_result"
    }
   ],
   "source": [
    "name, pose_detection_probability = get_pose_prediction(pose)\n",
    "round(pose_detection_probability[np.argmax(pose_detection_probability)],2)"
   ]
  },
  {
   "cell_type": "markdown",
   "id": "30f4f890",
   "metadata": {},
   "source": [
    "# Running on Live video"
   ]
  },
  {
   "cell_type": "code",
   "execution_count": 14,
   "id": "08aa2fa1",
   "metadata": {},
   "outputs": [],
   "source": [
    "cap = cv2.VideoCapture(0)\n",
    "curr_time = 0\n",
    "#pose model\n",
    "with mp_pose.Pose() as pose_tracker:\n",
    "\n",
    "    while cap.isOpened():\n",
    "        ret, frame = cap.read()\n",
    "\n",
    "        # Recolor Feed\n",
    "        image = cv2.cvtColor(frame, cv2.COLOR_BGR2RGB)\n",
    "        image.flags.writeable = False\n",
    "\n",
    "        # Make Detections\n",
    "        result= pose_tracker.process(image)\n",
    "        pose_landmarks = result.pose_landmarks\n",
    "\n",
    "        # Recolor image back to BGR for rendering\n",
    "        image.flags.writeable = True\n",
    "        image = cv2.cvtColor(image, cv2.COLOR_RGB2BGR)\n",
    "\n",
    "        try:\n",
    "            pose = pose_landmarks.landmark\n",
    "        \n",
    "            pose_name = \"tree\"\n",
    "            pose_name, score_arr = get_pose_prediction(pose)\n",
    "            score = round(score_arr[np.argmax(score_arr)],2)\n",
    "        \n",
    "            #put redirect bhako link ko number instead of pose name for the website\n",
    "            if pose_name == \"tree\" and score > 0.72:\n",
    "                difference, name = generate_errors(pose_name, pose)\n",
    "                print(name)\n",
    "                if curr_time >30:\n",
    "                    play_message(\"correct.mp3\")\n",
    "                    curr_time = 0\n",
    "                \n",
    "            elif pose_name == \"tree\" and score <0.72:\n",
    "                if curr_time >30:\n",
    "                    print(\"Incorrect\")\n",
    "                    curr_time = 0\n",
    "                \n",
    "            else:\n",
    "                if curr_time >= 50:\n",
    "                    play_message(\"test2.mp3\")\n",
    "                    curr_time = 0\n",
    "        \n",
    "        except:\n",
    "            pass\n",
    "        \n",
    "        cv2.imshow('Webcam Feed', image)\n",
    "\n",
    "        if cv2.waitKey(10) & 0xFF == ord('q'):\n",
    "            break\n",
    "        \n",
    "        curr_time +=1\n",
    "        \n",
    "\n",
    "cap.release()\n",
    "cv2.destroyAllWindows()"
   ]
  },
  {
   "cell_type": "markdown",
   "id": "b126b536",
   "metadata": {},
   "source": [
    "# TTS Implementation"
   ]
  },
  {
   "cell_type": "code",
   "execution_count": 16,
   "id": "0c9caf3d",
   "metadata": {},
   "outputs": [
    {
     "name": "stdout",
     "output_type": "stream",
     "text": [
      "Collecting playsound\n",
      "  Using cached playsound-1.3.0-py3-none-any.whl\n",
      "Installing collected packages: playsound\n",
      "Successfully installed playsound-1.3.0\n"
     ]
    },
    {
     "name": "stderr",
     "output_type": "stream",
     "text": [
      "WARNING: You are using pip version 21.2.4; however, version 23.0.1 is available.\n",
      "You should consider upgrading via the 'C:\\Users\\Windows\\Desktop\\MinorProject\\venv\\Scripts\\python.exe -m pip install --upgrade pip' command.\n"
     ]
    },
    {
     "name": "stdout",
     "output_type": "stream",
     "text": [
      "Requirement already satisfied: gtts in c:\\users\\windows\\desktop\\minorproject\\venv\\lib\\site-packages (2.3.0)\n",
      "Requirement already satisfied: requests~=2.28.0 in c:\\users\\windows\\desktop\\minorproject\\venv\\lib\\site-packages (from gtts) (2.28.1)\n",
      "Requirement already satisfied: six~=1.16.0 in c:\\users\\windows\\desktop\\minorproject\\venv\\lib\\site-packages (from gtts) (1.16.0)\n",
      "Requirement already satisfied: click~=8.1.3 in c:\\users\\windows\\desktop\\minorproject\\venv\\lib\\site-packages (from gtts) (8.1.3)\n",
      "Requirement already satisfied: colorama in c:\\users\\windows\\desktop\\minorproject\\venv\\lib\\site-packages (from click~=8.1.3->gtts) (0.4.6)\n",
      "Requirement already satisfied: urllib3<1.27,>=1.21.1 in c:\\users\\windows\\desktop\\minorproject\\venv\\lib\\site-packages (from requests~=2.28.0->gtts) (1.26.14)\n",
      "Requirement already satisfied: certifi>=2017.4.17 in c:\\users\\windows\\desktop\\minorproject\\venv\\lib\\site-packages (from requests~=2.28.0->gtts) (2022.12.7)\n",
      "Requirement already satisfied: idna<4,>=2.5 in c:\\users\\windows\\desktop\\minorproject\\venv\\lib\\site-packages (from requests~=2.28.0->gtts) (3.4)\n",
      "Requirement already satisfied: charset-normalizer<3,>=2 in c:\\users\\windows\\desktop\\minorproject\\venv\\lib\\site-packages (from requests~=2.28.0->gtts) (2.1.1)\n"
     ]
    },
    {
     "name": "stderr",
     "output_type": "stream",
     "text": [
      "WARNING: You are using pip version 21.2.4; however, version 23.0.1 is available.\n",
      "You should consider upgrading via the 'C:\\Users\\Windows\\Desktop\\MinorProject\\venv\\Scripts\\python.exe -m pip install --upgrade pip' command.\n"
     ]
    }
   ],
   "source": [
    "!pip install playsound\n",
    "!pip install gtts\n"
   ]
  },
  {
   "cell_type": "code",
   "execution_count": 15,
   "id": "2c306cb0",
   "metadata": {},
   "outputs": [
    {
     "ename": "ImportError",
     "evalue": "cannot import name 'gTTS' from 'gtts' (c:\\Users\\Windows\\Desktop\\MinorProject\\venv\\lib\\site-packages\\gtts\\__init__.py)",
     "output_type": "error",
     "traceback": [
      "\u001b[1;31m---------------------------------------------------------------------------\u001b[0m",
      "\u001b[1;31mImportError\u001b[0m                               Traceback (most recent call last)",
      "Cell \u001b[1;32mIn[15], line 1\u001b[0m\n\u001b[1;32m----> 1\u001b[0m \u001b[39mfrom\u001b[39;00m \u001b[39mgtts\u001b[39;00m \u001b[39mimport\u001b[39;00m gTTS\n\u001b[0;32m      2\u001b[0m \u001b[39mfrom\u001b[39;00m \u001b[39mplaysound\u001b[39;00m \u001b[39mimport\u001b[39;00m playsound\n\u001b[0;32m      3\u001b[0m \u001b[39mimport\u001b[39;00m \u001b[39mos\u001b[39;00m\n",
      "\u001b[1;31mImportError\u001b[0m: cannot import name 'gTTS' from 'gtts' (c:\\Users\\Windows\\Desktop\\MinorProject\\venv\\lib\\site-packages\\gtts\\__init__.py)"
     ]
    }
   ],
   "source": [
    "from gtts import gTTS\n",
    "from playsound import playsound\n",
    "import os\n",
    "import time"
   ]
  },
  {
   "cell_type": "code",
   "execution_count": 42,
   "id": "2d47eace",
   "metadata": {},
   "outputs": [],
   "source": [
    "def tts_file_generation(message, language, file_name):\n",
    "    output = gTTS(text = message, lang = language, slow = False)\n",
    "    file_path = \"ErrorMessages\"\n",
    "    final_path = os.path.join(file_path, file_name)\n",
    "    output.save(final_path)"
   ]
  },
  {
   "cell_type": "code",
   "execution_count": 43,
   "id": "3730d862",
   "metadata": {},
   "outputs": [],
   "source": [
    "def play_message(file_name):\n",
    "    file_path = \"ErrorMessages\"\n",
    "    final_path = os.path.join(file_path, file_name)\n",
    "    playsound(final_path)"
   ]
  },
  {
   "cell_type": "code",
   "execution_count": 44,
   "id": "84a2706f",
   "metadata": {},
   "outputs": [],
   "source": [
    "tts_file_generation(\"Do the pose correctly\", 'en', \"test2.mp3\")"
   ]
  },
  {
   "cell_type": "code",
   "execution_count": 45,
   "id": "027b72e3",
   "metadata": {},
   "outputs": [],
   "source": [
    "tts_file_generation(\"Maintain Pose\", 'en', \"correct.mp3\")"
   ]
  }
 ],
 "metadata": {
  "kernelspec": {
   "display_name": "venv",
   "language": "python",
   "name": "python3"
  },
  "language_info": {
   "codemirror_mode": {
    "name": "ipython",
    "version": 3
   },
   "file_extension": ".py",
   "mimetype": "text/x-python",
   "name": "python",
   "nbconvert_exporter": "python",
   "pygments_lexer": "ipython3",
   "version": "3.10.1"
  },
  "vscode": {
   "interpreter": {
    "hash": "fb815eb1d048782cc97d23db6955d372697eef8325563321e950dadcbc29d048"
   }
  }
 },
 "nbformat": 4,
 "nbformat_minor": 5
}
