{
 "cells": [
  {
   "cell_type": "code",
   "execution_count": 1,
   "metadata": {},
   "outputs": [
    {
     "name": "stdout",
     "output_type": "stream",
     "text": [
      "{'key1': 'value1', 'key2': 'value2', 'key3': 'value3'}\n"
     ]
    }
   ],
   "source": [
    "my_dict = {\"key1\": \"value1\", \"key2\": \"value2\"}\n",
    "my_dict[\"key3\"] = \"value3\"\n",
    "print(my_dict)"
   ]
  },
  {
   "cell_type": "code",
   "execution_count": 1,
   "metadata": {},
   "outputs": [
    {
     "data": {
      "text/plain": [
       "{'left_elbow_angle': 175.20487121172422,\n",
       " 'right_elbow_angle': 181.54689114411195,\n",
       " 'right_shoulder_angle': 92.15970587992851,\n",
       " 'left_shoulder_angle': 255.3560290498088,\n",
       " 'left_knee_angle': 224.75688376262855,\n",
       " 'right_knee_angle': 97.66449204248363,\n",
       " 'head_angle': 177.09270451103035,\n",
       " 'left_hip_angle': 250.3734360529195}"
      ]
     },
     "execution_count": 1,
     "metadata": {},
     "output_type": "execute_result"
    }
   ],
   "source": [
    "import csv\n",
    "tree_pose_angles = {}\n",
    "joints = [\n",
    "    'left_elbow',\n",
    "    'right_elbow',\n",
    "    'right_shoulder',\n",
    "    'left_shoulder',\n",
    "    'left_knee',\n",
    "    'right_knee',\n",
    "    'head',\n",
    "    'left_hip',\n",
    "    'right_hip',\n",
    "    'left_ankle',\n",
    "    'right_ankle'\n",
    "]\n",
    "keys=[  x+\"_angle\" for x in joints]\n",
    "     \n",
    "with open('data.csv', 'r') as file:\n",
    " reader = csv.reader(file)\n",
    " i=0\n",
    " for row in reader:\n",
    "   for i in range(1,len(row)):\n",
    "       tree_pose_angles.update({keys[i-1]:float(row[i])})\n",
    "tree_pose_angles\n",
    "            \n"
   ]
  },
  {
   "cell_type": "code",
   "execution_count": 14,
   "metadata": {},
   "outputs": [
    {
     "name": "stdout",
     "output_type": "stream",
     "text": [
      "t\n"
     ]
    },
    {
     "ename": "IndexError",
     "evalue": "list index out of range",
     "output_type": "error",
     "traceback": [
      "\u001b[1;31m---------------------------------------------------------------------------\u001b[0m",
      "\u001b[1;31mIndexError\u001b[0m                                Traceback (most recent call last)",
      "Cell \u001b[1;32mIn[14], line 22\u001b[0m\n\u001b[0;32m     20\u001b[0m  i\u001b[39m=\u001b[39m\u001b[39m0\u001b[39m\n\u001b[0;32m     21\u001b[0m  \u001b[39mfor\u001b[39;00m row \u001b[39min\u001b[39;00m reader:\n\u001b[1;32m---> 22\u001b[0m      \u001b[39mprint\u001b[39m(row[\u001b[39m0\u001b[39;49m])\n\u001b[0;32m     24\u001b[0m \u001b[39m#    for i in range(1,len(row)):\u001b[39;00m\n\u001b[0;32m     25\u001b[0m \u001b[39m#        tree_pose_angles.update({keys[i-1]:float(row[i])})\u001b[39;00m\n\u001b[0;32m     26\u001b[0m \u001b[39m# tree_pose_angles\u001b[39;00m\n",
      "\u001b[1;31mIndexError\u001b[0m: list index out of range"
     ]
    }
   ],
   "source": [
    "import csv\n",
    "tree_pose_angles = {}\n",
    "joints = [\n",
    "    'left_elbow',\n",
    "    'right_elbow',\n",
    "    'right_shoulder',\n",
    "    'left_shoulder',\n",
    "    'left_knee',\n",
    "    'right_knee',\n",
    "    'head',\n",
    "    'left_hip',\n",
    "    'right_hip',\n",
    "    'left_ankle',\n",
    "    'right_ankle'\n",
    "]\n",
    "keys=[  x+\"_angle\" for x in joints]\n",
    "     \n",
    "with open('data.csv', 'r') as file:\n",
    " reader = csv.reader(file)\n",
    " i=0\n",
    " for row in reader:\n",
    "     print(row[0])\n",
    "\n",
    "#    for i in range(1,len(row)):\n",
    "#        tree_pose_angles.update({keys[i-1]:float(row[i])})\n",
    "# tree_pose_angles\n",
    "            \n"
   ]
  },
  {
   "cell_type": "code",
   "execution_count": 15,
   "metadata": {},
   "outputs": [],
   "source": [
    "def tree_actual_angles(pose_name):\n",
    "   \n",
    "    tree_pose_angles = {\n",
    "            x+\"_angle\" : None for x in joints\n",
    "        }\n",
    "\n",
    " \n",
    "    keys=[  x+\"_angle\" for x in joints]\n",
    "        \n",
    "    with open('data.csv', 'r') as file:\n",
    "        reader = csv.reader(file)\n",
    "        i=0\n",
    "        for row in reader:\n",
    "            if row[0] == pose_name:\n",
    "                for i in range(1,len(row)):\n",
    "                    tree_pose_angles.update({keys[i-1]:float(row[i])})\n",
    "\n",
    "\n",
    "        return tree_pose_angles"
   ]
  },
  {
   "cell_type": "code",
   "execution_count": 16,
   "metadata": {},
   "outputs": [
    {
     "data": {
      "text/plain": [
       "{'left_elbow_angle': 176.513801602603,\n",
       " 'right_elbow_angle': 177.9845319172475,\n",
       " 'right_shoulder_angle': 97.68278240511302,\n",
       " 'left_shoulder_angle': 261.01689482191654,\n",
       " 'left_knee_angle': 187.54291277120055,\n",
       " 'right_knee_angle': 172.88215470144664,\n",
       " 'head_angle': 181.35515528941556,\n",
       " 'left_hip_angle': 178.49389780152208,\n",
       " 'right_hip_angle': None,\n",
       " 'left_ankle_angle': None,\n",
       " 'right_ankle_angle': None}"
      ]
     },
     "execution_count": 16,
     "metadata": {},
     "output_type": "execute_result"
    }
   ],
   "source": [
    "tree_actual_angles(\"t\")"
   ]
  },
  {
   "cell_type": "code",
   "execution_count": 6,
   "metadata": {},
   "outputs": [
    {
     "data": {
      "text/plain": [
       "175.20487121172422"
      ]
     },
     "execution_count": 6,
     "metadata": {},
     "output_type": "execute_result"
    }
   ],
   "source": [
    "\n",
    "tree_pose_angles['left_elbow_angle'] "
   ]
  },
  {
   "cell_type": "code",
   "execution_count": 7,
   "metadata": {},
   "outputs": [
    {
     "data": {
      "text/plain": [
       "0.8"
      ]
     },
     "execution_count": 7,
     "metadata": {},
     "output_type": "execute_result"
    }
   ],
   "source": [
    "class Joint:\n",
    "    def __init__(self, name, x,y,v):\n",
    "        self.name = name\n",
    "        self.x = x\n",
    "        self.y = y\n",
    "        self.v=v\n",
    "nose=Joint(\"nose\", 0.8, 0.5,0.1)\n",
    "nose.x\n",
    "        \n",
    "        "
   ]
  }
 ],
 "metadata": {
  "kernelspec": {
   "display_name": "venv",
   "language": "python",
   "name": "venv"
  },
  "language_info": {
   "codemirror_mode": {
    "name": "ipython",
    "version": 3
   },
   "file_extension": ".py",
   "mimetype": "text/x-python",
   "name": "python",
   "nbconvert_exporter": "python",
   "pygments_lexer": "ipython3",
   "version": "3.10.1"
  },
  "orig_nbformat": 4,
  "vscode": {
   "interpreter": {
    "hash": "fb815eb1d048782cc97d23db6955d372697eef8325563321e950dadcbc29d048"
   }
  }
 },
 "nbformat": 4,
 "nbformat_minor": 2
}
