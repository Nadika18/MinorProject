{
 "cells": [
  {
   "cell_type": "code",
   "execution_count": 1,
   "metadata": {},
   "outputs": [
    {
     "name": "stdout",
     "output_type": "stream",
     "text": [
      "{'key1': 'value1', 'key2': 'value2', 'key3': 'value3'}\n"
     ]
    }
   ],
   "source": [
    "my_dict = {\"key1\": \"value1\", \"key2\": \"value2\"}\n",
    "my_dict[\"key3\"] = \"value3\"\n",
    "print(my_dict)"
   ]
  },
  {
   "cell_type": "code",
   "execution_count": 5,
   "metadata": {},
   "outputs": [
    {
     "data": {
      "text/plain": [
       "{'left_elbow_angle': 1.0,\n",
       " 'right_elbow_angle': 2.0,\n",
       " 'right_shoulder_angle': 3.0,\n",
       " 'left_shoulder_angle': 4.0,\n",
       " 'left_knee_angle': 5.0,\n",
       " 'right_knee_angle': 6.0,\n",
       " 'head_angle': 7.0,\n",
       " 'left_hip_angle': 8.0,\n",
       " 'right_hip_angle': 9.0,\n",
       " 'left_ankle_angle': 10.0,\n",
       " 'right_ankle_angle': 11.0}"
      ]
     },
     "execution_count": 5,
     "metadata": {},
     "output_type": "execute_result"
    }
   ],
   "source": [
    "import csv\n",
    "tree_pose_angles = {}\n",
    "joints = [\n",
    "    'left_elbow',\n",
    "    'right_elbow',\n",
    "    'right_shoulder',\n",
    "    'left_shoulder',\n",
    "    'left_knee',\n",
    "    'right_knee',\n",
    "    'head',\n",
    "    'left_hip',\n",
    "    'right_hip',\n",
    "    'left_ankle',\n",
    "    'right_ankle'\n",
    "]\n",
    "keys=[  x+\"_angle\" for x in joints]\n",
    "     \n",
    "with open('data.csv', 'r') as file:\n",
    " reader = csv.reader(file)\n",
    " i=0\n",
    " for row in reader:\n",
    "   for i in range(1,len(row)):\n",
    "       tree_pose_angles.update({keys[i-1]:float(row[i])})\n",
    "tree_pose_angles\n",
    "            \n"
   ]
  },
  {
   "cell_type": "code",
   "execution_count": 7,
   "metadata": {},
   "outputs": [
    {
     "data": {
      "text/plain": [
       "0.8"
      ]
     },
     "execution_count": 7,
     "metadata": {},
     "output_type": "execute_result"
    }
   ],
   "source": [
    "class Joint:\n",
    "    def __init__(self, name, x,y,v):\n",
    "        self.name = name\n",
    "        self.x = x\n",
    "        self.y = y\n",
    "        self.v=v\n",
    "nose=Joint(\"nose\", 0.8, 0.5,0.1)\n",
    "nose.x\n",
    "        \n",
    "        "
   ]
  }
 ],
 "metadata": {
  "kernelspec": {
   "display_name": "venv",
   "language": "python",
   "name": "python3"
  },
  "language_info": {
   "codemirror_mode": {
    "name": "ipython",
    "version": 3
   },
   "file_extension": ".py",
   "mimetype": "text/x-python",
   "name": "python",
   "nbconvert_exporter": "python",
   "pygments_lexer": "ipython3",
   "version": "3.10.1"
  },
  "orig_nbformat": 4,
  "vscode": {
   "interpreter": {
    "hash": "fb815eb1d048782cc97d23db6955d372697eef8325563321e950dadcbc29d048"
   }
  }
 },
 "nbformat": 4,
 "nbformat_minor": 2
}
